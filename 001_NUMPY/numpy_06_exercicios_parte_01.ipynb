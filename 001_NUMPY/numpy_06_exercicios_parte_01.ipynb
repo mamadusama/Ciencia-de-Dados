{
 "cells": [
  {
   "cell_type": "markdown",
   "metadata": {},
   "source": [
    "## Exercício\n",
    "\n",
    "Você é um analista de RH e tem os salários de todos os funcionários da sua empresa em um array NumPy. Seu trabalho é identificar quantos funcionários ganham acima da média. Use o seguinte array para sua análise: `salarios = np.array([3000, 2500, 3500, 4000, 2000, 4500, 3000, 3800, 4800])`."
   ]
  },
  {
   "cell_type": "code",
   "execution_count": 12,
   "metadata": {
    "ExecuteTime": {
     "end_time": "2023-07-03T17:58:55.261401600Z",
     "start_time": "2023-07-03T17:58:55.249755Z"
    },
    "collapsed": false,
    "jupyter": {
     "outputs_hidden": false
    }
   },
   "outputs": [],
   "source": [
    "import numpy as np\n",
    "\n",
    "salarios = np.array([3000, 2500, 3500, 4000, 2000, 4500, 3000, 3800, 4800])\n"
   ]
  },
  {
   "cell_type": "code",
   "execution_count": 13,
   "metadata": {},
   "outputs": [
    {
     "name": "stdout",
     "output_type": "stream",
     "text": [
      "3455.5555555555557\n"
     ]
    }
   ],
   "source": [
    "# calcular meida salarial\n",
    "media_salarial = np.mean(salarios)\n",
    "print(media_salarial)"
   ]
  },
  {
   "cell_type": "code",
   "execution_count": 18,
   "metadata": {},
   "outputs": [
    {
     "name": "stdout",
     "output_type": "stream",
     "text": [
      "(array([2, 3, 5, 7, 8]),)\n"
     ]
    }
   ],
   "source": [
    "# identificar os funcionários que ganham acima da média\n",
    "\n",
    "funcionarios_acima_da_media = np.where(salarios > media_salarial)\n",
    "print(funcionarios_acima_da_media)\n"
   ]
  },
  {
   "cell_type": "code",
   "execution_count": 22,
   "metadata": {},
   "outputs": [
    {
     "name": "stdout",
     "output_type": "stream",
     "text": [
      "[3500 4000 4500 3800 4800]\n",
      "5 funcionarios ganham acima da média\n"
     ]
    }
   ],
   "source": [
    "# respondendo a perguna , quantos funcionários ganham acima da media\n",
    "\n",
    "\n",
    "qtde_funcionarios_acima_media = salarios[funcionarios_acima_da_media]\n",
    "print(qtde_funcionarios_acima_media)\n",
    "qtd = len(qtde_funcionarios_acima_media)\n",
    "\n",
    "print(f\"{qtd} funcionarios ganham acima da média\")"
   ]
  }
 ],
 "metadata": {
  "kernelspec": {
   "display_name": "Python 3 (ipykernel)",
   "language": "python",
   "name": "python3"
  },
  "language_info": {
   "codemirror_mode": {
    "name": "ipython",
    "version": 3
   },
   "file_extension": ".py",
   "mimetype": "text/x-python",
   "name": "python",
   "nbconvert_exporter": "python",
   "pygments_lexer": "ipython3",
   "version": "3.12.7"
  }
 },
 "nbformat": 4,
 "nbformat_minor": 4
}
